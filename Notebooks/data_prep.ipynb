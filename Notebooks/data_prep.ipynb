{
 "cells": [
  {
   "cell_type": "code",
   "execution_count": 1,
   "metadata": {},
   "outputs": [],
   "source": [
    "import pandas as pd\n",
    "import numpy as np\n",
    "import plotly.graph_objects as go\n",
    "from DataHandler import DataHandler"
   ]
  },
  {
   "cell_type": "code",
   "execution_count": 2,
   "metadata": {},
   "outputs": [
    {
     "name": "stderr",
     "output_type": "stream",
     "text": [
      "c:\\Users\\mbeckhusen\\Documents\\VolaSurfer\\Utils.py:9: RuntimeWarning: invalid value encountered in sqrt\n",
      "  d1 = (np.log(S/K) + (r + 0.5 * sigma**2) * T) / (sigma * np.sqrt(T))\n",
      "c:\\Users\\mbeckhusen\\Documents\\VolaSurfer\\Utils.py:10: RuntimeWarning: invalid value encountered in sqrt\n",
      "  d2 = d1 - sigma * np.sqrt(T)\n"
     ]
    },
    {
     "name": "stdout",
     "output_type": "stream",
     "text": [
      "log_strikes_bins loaded\n",
      "df is grouped and aggregated\n",
      "               timestamp  expiry_bin  log_strike_bin option_type  \\\n",
      "0    2023-01-04 06:30:00           0               0        Call   \n",
      "1    2023-01-04 06:30:00           0               0         Put   \n",
      "2    2023-01-04 06:30:00           0               1        Call   \n",
      "3    2023-01-04 06:30:00           0               1         Put   \n",
      "4    2023-01-04 06:30:00           0               2        Call   \n",
      "...                  ...         ...             ...         ...   \n",
      "6705 2023-11-06 06:30:00           1               1         Put   \n",
      "6706 2023-11-06 06:30:00           2               0        Call   \n",
      "6707 2023-11-06 06:30:00           2               0         Put   \n",
      "6708 2023-11-06 06:30:00           2               1        Call   \n",
      "6709 2023-11-06 06:30:00           2               1         Put   \n",
      "\n",
      "      implied_volatility  \n",
      "0               0.310623  \n",
      "1                    NaN  \n",
      "2               0.288463  \n",
      "3                    NaN  \n",
      "4               0.270408  \n",
      "...                  ...  \n",
      "6705                 NaN  \n",
      "6706            0.128148  \n",
      "6707                 NaN  \n",
      "6708            0.128008  \n",
      "6709                 NaN  \n",
      "\n",
      "[6710 rows x 5 columns]\n"
     ]
    }
   ],
   "source": [
    "file_path = \"Data/SPY_Options_log.txt\"\n",
    "\n",
    "dh = DataHandler()\n",
    "\n",
    "df = dh.parse_file(file_path=file_path)\n",
    "\n",
    "df = dh.get_basic_data(df)\n",
    "df_advanced = dh.get_advanced_features(df, strike_bins=5)"
   ]
  },
  {
   "cell_type": "code",
   "execution_count": 3,
   "metadata": {},
   "outputs": [
    {
     "data": {
      "text/plain": [
       "Index(['timestamp', 'ticker_option', 'maturity', 'strike', 'option_type',\n",
       "       'bid_open', 'bid_high', 'bid_low', 'bid_close', 'ask_open', 'ask_high',\n",
       "       'ask_low', 'ask_close', 'ticker_price', 'open', 'high', 'low', 'close',\n",
       "       'volume', 'bid_mid', 'ask_mid', 'mid_price', 'T', 'days_to_expiry',\n",
       "       'implied_volatility', 'log_strike', 'log_strike_bin', 'expiry_bin'],\n",
       "      dtype='object')"
      ]
     },
     "execution_count": 3,
     "metadata": {},
     "output_type": "execute_result"
    }
   ],
   "source": [
    "df.columns"
   ]
  },
  {
   "cell_type": "code",
   "execution_count": 4,
   "metadata": {},
   "outputs": [
    {
     "data": {
      "text/plain": [
       "(45025, 28)"
      ]
     },
     "execution_count": 4,
     "metadata": {},
     "output_type": "execute_result"
    }
   ],
   "source": [
    "df.shape"
   ]
  },
  {
   "cell_type": "code",
   "execution_count": 5,
   "metadata": {},
   "outputs": [
    {
     "data": {
      "text/plain": [
       "Index(['timestamp', 'expiry_bin', 'log_strike_bin', 'option_type',\n",
       "       'implied_volatility'],\n",
       "      dtype='object')"
      ]
     },
     "execution_count": 5,
     "metadata": {},
     "output_type": "execute_result"
    }
   ],
   "source": [
    "df_advanced.columns"
   ]
  },
  {
   "cell_type": "code",
   "execution_count": 6,
   "metadata": {},
   "outputs": [
    {
     "data": {
      "text/plain": [
       "(6710, 5)"
      ]
     },
     "execution_count": 6,
     "metadata": {},
     "output_type": "execute_result"
    }
   ],
   "source": [
    "df_advanced.shape"
   ]
  },
  {
   "cell_type": "markdown",
   "metadata": {},
   "source": [
    "what do i need to create strike bins and time bins? what about an IV index? how are the observations aggregated within each bin?\n",
    "\n",
    "strike bins:\n",
    "there are two approaches. \n",
    "- first approach is creating the bins based on the min and max of available strikes, \n",
    "- the second approach is based on predefined bin edges\n",
    "-> APPROVED: min max\n",
    "\n",
    "time bins:\n",
    "here again, two approaches, just like above.\n",
    "-> APPROVED: predefined bins\n",
    "\n",
    "iv index:\n",
    "for the iv index there are multiple approaches. \n",
    "- one is to take the options with closest proximity to the underlying on the closest time to expiry to determined lag. \n",
    "- another approach is to aggregate multiple options close to the lag and close to the atm strike and then weight them."
   ]
  },
  {
   "cell_type": "code",
   "execution_count": 7,
   "metadata": {},
   "outputs": [],
   "source": [
    "# aggregation of option contracts into bin grid\n",
    "\n",
    "# we need vega, because this shows the options sensitivity to changes in implied volatility\n"
   ]
  },
  {
   "cell_type": "code",
   "execution_count": 17,
   "metadata": {},
   "outputs": [
    {
     "data": {
      "text/html": [
       "<div>\n",
       "<style scoped>\n",
       "    .dataframe tbody tr th:only-of-type {\n",
       "        vertical-align: middle;\n",
       "    }\n",
       "\n",
       "    .dataframe tbody tr th {\n",
       "        vertical-align: top;\n",
       "    }\n",
       "\n",
       "    .dataframe thead th {\n",
       "        text-align: right;\n",
       "    }\n",
       "</style>\n",
       "<table border=\"1\" class=\"dataframe\">\n",
       "  <thead>\n",
       "    <tr style=\"text-align: right;\">\n",
       "      <th></th>\n",
       "      <th>timestamp</th>\n",
       "      <th>expiry_bin</th>\n",
       "      <th>log_strike_bin</th>\n",
       "      <th>option_type</th>\n",
       "      <th>implied_volatility</th>\n",
       "    </tr>\n",
       "  </thead>\n",
       "  <tbody>\n",
       "    <tr>\n",
       "      <th>0</th>\n",
       "      <td>2023-01-04 06:30:00</td>\n",
       "      <td>0</td>\n",
       "      <td>0</td>\n",
       "      <td>Call</td>\n",
       "      <td>0.310623</td>\n",
       "    </tr>\n",
       "    <tr>\n",
       "      <th>2</th>\n",
       "      <td>2023-01-04 06:30:00</td>\n",
       "      <td>0</td>\n",
       "      <td>1</td>\n",
       "      <td>Call</td>\n",
       "      <td>0.288463</td>\n",
       "    </tr>\n",
       "    <tr>\n",
       "      <th>4</th>\n",
       "      <td>2023-01-04 06:30:00</td>\n",
       "      <td>0</td>\n",
       "      <td>2</td>\n",
       "      <td>Call</td>\n",
       "      <td>0.270408</td>\n",
       "    </tr>\n",
       "    <tr>\n",
       "      <th>6</th>\n",
       "      <td>2023-01-04 06:30:00</td>\n",
       "      <td>0</td>\n",
       "      <td>3</td>\n",
       "      <td>Call</td>\n",
       "      <td>0.251169</td>\n",
       "    </tr>\n",
       "    <tr>\n",
       "      <th>8</th>\n",
       "      <td>2023-01-04 06:30:00</td>\n",
       "      <td>0</td>\n",
       "      <td>4</td>\n",
       "      <td>Call</td>\n",
       "      <td>0.235171</td>\n",
       "    </tr>\n",
       "    <tr>\n",
       "      <th>...</th>\n",
       "      <td>...</td>\n",
       "      <td>...</td>\n",
       "      <td>...</td>\n",
       "      <td>...</td>\n",
       "      <td>...</td>\n",
       "    </tr>\n",
       "    <tr>\n",
       "      <th>6700</th>\n",
       "      <td>2023-11-06 06:30:00</td>\n",
       "      <td>0</td>\n",
       "      <td>1</td>\n",
       "      <td>Call</td>\n",
       "      <td>0.102618</td>\n",
       "    </tr>\n",
       "    <tr>\n",
       "      <th>6702</th>\n",
       "      <td>2023-11-06 06:30:00</td>\n",
       "      <td>1</td>\n",
       "      <td>0</td>\n",
       "      <td>Call</td>\n",
       "      <td>0.133158</td>\n",
       "    </tr>\n",
       "    <tr>\n",
       "      <th>6704</th>\n",
       "      <td>2023-11-06 06:30:00</td>\n",
       "      <td>1</td>\n",
       "      <td>1</td>\n",
       "      <td>Call</td>\n",
       "      <td>0.134070</td>\n",
       "    </tr>\n",
       "    <tr>\n",
       "      <th>6706</th>\n",
       "      <td>2023-11-06 06:30:00</td>\n",
       "      <td>2</td>\n",
       "      <td>0</td>\n",
       "      <td>Call</td>\n",
       "      <td>0.128148</td>\n",
       "    </tr>\n",
       "    <tr>\n",
       "      <th>6708</th>\n",
       "      <td>2023-11-06 06:30:00</td>\n",
       "      <td>2</td>\n",
       "      <td>1</td>\n",
       "      <td>Call</td>\n",
       "      <td>0.128008</td>\n",
       "    </tr>\n",
       "  </tbody>\n",
       "</table>\n",
       "<p>3355 rows × 5 columns</p>\n",
       "</div>"
      ],
      "text/plain": [
       "               timestamp  expiry_bin  log_strike_bin option_type  \\\n",
       "0    2023-01-04 06:30:00           0               0        Call   \n",
       "2    2023-01-04 06:30:00           0               1        Call   \n",
       "4    2023-01-04 06:30:00           0               2        Call   \n",
       "6    2023-01-04 06:30:00           0               3        Call   \n",
       "8    2023-01-04 06:30:00           0               4        Call   \n",
       "...                  ...         ...             ...         ...   \n",
       "6700 2023-11-06 06:30:00           0               1        Call   \n",
       "6702 2023-11-06 06:30:00           1               0        Call   \n",
       "6704 2023-11-06 06:30:00           1               1        Call   \n",
       "6706 2023-11-06 06:30:00           2               0        Call   \n",
       "6708 2023-11-06 06:30:00           2               1        Call   \n",
       "\n",
       "      implied_volatility  \n",
       "0               0.310623  \n",
       "2               0.288463  \n",
       "4               0.270408  \n",
       "6               0.251169  \n",
       "8               0.235171  \n",
       "...                  ...  \n",
       "6700            0.102618  \n",
       "6702            0.133158  \n",
       "6704            0.134070  \n",
       "6706            0.128148  \n",
       "6708            0.128008  \n",
       "\n",
       "[3355 rows x 5 columns]"
      ]
     },
     "execution_count": 17,
     "metadata": {},
     "output_type": "execute_result"
    }
   ],
   "source": [
    "call_df_advanced = df_advanced[df_advanced['option_type']=='Call']\n",
    "call_df_advanced"
   ]
  },
  {
   "cell_type": "code",
   "execution_count": 18,
   "metadata": {},
   "outputs": [],
   "source": [
    "call_df_advanced.to_excel('BinnedOptionsData.xlsx', index=False)\n"
   ]
  },
  {
   "cell_type": "code",
   "execution_count": null,
   "metadata": {},
   "outputs": [],
   "source": []
  }
 ],
 "metadata": {
  "kernelspec": {
   "display_name": ".venv",
   "language": "python",
   "name": "python3"
  },
  "language_info": {
   "codemirror_mode": {
    "name": "ipython",
    "version": 3
   },
   "file_extension": ".py",
   "mimetype": "text/x-python",
   "name": "python",
   "nbconvert_exporter": "python",
   "pygments_lexer": "ipython3",
   "version": "3.12.5"
  }
 },
 "nbformat": 4,
 "nbformat_minor": 2
}
